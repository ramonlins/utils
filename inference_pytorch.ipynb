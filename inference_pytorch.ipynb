{
 "cells": [
  {
   "cell_type": "code",
   "execution_count": 4,
   "id": "cafc4f03",
   "metadata": {},
   "outputs": [
    {
     "name": "stdout",
     "output_type": "stream",
     "text": [
      "pytorch version: 1.8.2\n",
      "cuda version: 10.1\n",
      "cudnn version: 7603\n"
     ]
    }
   ],
   "source": [
    "import time\n",
    "\n",
    "import torch\n",
    "import torch.onnx \n",
    "\n",
    "from models.estimator import Estimator\n",
    "\n",
    "print(\"pytorch version:\", torch.__version__)\n",
    "print(\"cuda version:\" , torch.version.cuda)\n",
    "print(\"cudnn version:\", torch.backends.cudnn.version())"
   ]
  },
  {
   "cell_type": "code",
   "execution_count": 5,
   "id": "10d1a8ac",
   "metadata": {},
   "outputs": [],
   "source": [
    "# deterministic input data\n",
    "torch.manual_seed(0)\n",
    "\n",
    "# set parameters for the model\n",
    "device = 'cuda'\n",
    "batch_size = 4\n",
    "total_samples = 1000\n",
    "img_res = (512, 512)\n",
    "\n",
    "# Create random input data\n",
    "torch_inputs = torch.randn(batch_size, 3, 512, 512, requires_grad=False)\n",
    "\n",
    "# load model\n",
    "model_path = \"/home/ramon/Git/adroit/vision_foliage_density/weights/foliage_density_v3/density_model_reg.pth\"\n",
    "\n",
    "predictor = Estimator(img_res, model_path)"
   ]
  },
  {
   "cell_type": "code",
   "execution_count": 6,
   "id": "9aca49c6",
   "metadata": {},
   "outputs": [
    {
     "name": "stdout",
     "output_type": "stream",
     "text": [
      "Pytorch total inference time = 77.94066262245178\n"
     ]
    }
   ],
   "source": [
    "# inference torch\n",
    "total_start = time.time()\n",
    "for i in range(total_samples//batch_size):\n",
    "    torch_input = torch_inputs.to(device)\n",
    "    predictor.estimate(torch_input)\n",
    "total_end = time.time()\n",
    "\n",
    "torch_time = total_end - total_start\n",
    "print(f\"Pytorch total inference time = {torch_time}\")"
   ]
  }
 ],
 "metadata": {
  "kernelspec": {
   "display_name": "Python 3.7.13 ('utils')",
   "language": "python",
   "name": "python3"
  },
  "language_info": {
   "codemirror_mode": {
    "name": "ipython",
    "version": 3
   },
   "file_extension": ".py",
   "mimetype": "text/x-python",
   "name": "python",
   "nbconvert_exporter": "python",
   "pygments_lexer": "ipython3",
   "version": "3.7.12"
  },
  "vscode": {
   "interpreter": {
    "hash": "1e890fa95ed0ec9c8fb286e04549f6077243facc59f1dcdc56b3adff9cce08d2"
   }
  }
 },
 "nbformat": 4,
 "nbformat_minor": 5
}
